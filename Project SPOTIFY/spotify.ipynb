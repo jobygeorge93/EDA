{
 "cells": [
  {
   "cell_type": "markdown",
   "id": "c05a6572",
   "metadata": {},
   "source": [
    "# 🎧Analyzing User Engagement and Churn in Spotify\n",
    "## Introduction\n",
    "The project undertakes a comprehensive exploratory data analysis (EDA) of Spotify user engagement and listening behavior. In the highly competitive digital streaming market, understanding the factors that drive user interaction and, conversely, lead to churn is paramount for platform sustainability and growth.\n",
    "\n",
    "The primary objective of this study is to leverage a dataset detailing user activities—including listening time, skip rates, and device preferences—to uncover patterns, correlations, and anomalies in user behavior. By grouping data across different countries and device types, we aim to:\n"
   ]
  },
  {
   "cell_type": "markdown",
   "id": "03b74daa",
   "metadata": {},
   "source": [
    "1.Quantify Core Engagement: Determine average metrics like listening time and skip rates across key user segments.\n"
   ]
  },
  {
   "cell_type": "markdown",
   "id": "7fc0e6d3",
   "metadata": {},
   "source": [
    "2.Identify Behavioral Differences: Analyze how engagement metrics vary significantly between different device types (e.g., mobile vs. desktop) and geographical locations.\n"
   ]
  },
  {
   "cell_type": "markdown",
   "id": "2d7320e1",
   "metadata": {},
   "source": [
    "3.Establish a Foundation for Churn Prediction: Identify strong correlational relationships that can serve as predictive features for a future machine learning model aimed at anticipating customer churn."
   ]
  },
  {
   "cell_type": "markdown",
   "id": "651f1c37",
   "metadata": {},
   "source": [
    "Import Necessary Libraries"
   ]
  },
  {
   "cell_type": "code",
   "execution_count": null,
   "id": "51d33053",
   "metadata": {},
   "outputs": [],
   "source": [
    "import warnings\n",
    "warnings.filterwarnings('ignore')\n",
    "import pandas as pd\n",
    "import numpy as np\n",
    "import matplotlib.pyplot as plt\n",
    "import seaborn as sns"
   ]
  },
  {
   "cell_type": "markdown",
   "id": "545f0689",
   "metadata": {},
   "source": [
    "Import Dataset"
   ]
  },
  {
   "cell_type": "code",
   "execution_count": 56,
   "id": "8e76e7c5",
   "metadata": {},
   "outputs": [],
   "source": [
    "df=pd.read_csv(r'd:\\\\DataScience\\\\PROJECT\\\\Project SPOTIFY\\\\spotify_churn_dataset.csv')"
   ]
  },
  {
   "cell_type": "markdown",
   "id": "76bf2b64",
   "metadata": {},
   "source": [
    "Read 1st 5 rows"
   ]
  },
  {
   "cell_type": "code",
   "execution_count": 80,
   "id": "2f09da69",
   "metadata": {},
   "outputs": [
    {
     "data": {
      "text/html": [
       "<div>\n",
       "<style scoped>\n",
       "    .dataframe tbody tr th:only-of-type {\n",
       "        vertical-align: middle;\n",
       "    }\n",
       "\n",
       "    .dataframe tbody tr th {\n",
       "        vertical-align: top;\n",
       "    }\n",
       "\n",
       "    .dataframe thead th {\n",
       "        text-align: right;\n",
       "    }\n",
       "</style>\n",
       "<table border=\"1\" class=\"dataframe\">\n",
       "  <thead>\n",
       "    <tr style=\"text-align: right;\">\n",
       "      <th></th>\n",
       "      <th>user_id</th>\n",
       "      <th>gender</th>\n",
       "      <th>age</th>\n",
       "      <th>country</th>\n",
       "      <th>subscription_type</th>\n",
       "      <th>listening_time</th>\n",
       "      <th>songs_played_per_day</th>\n",
       "      <th>skip_rate</th>\n",
       "      <th>device_type</th>\n",
       "      <th>ads_listened_per_week</th>\n",
       "      <th>offline_listening</th>\n",
       "      <th>is_churned</th>\n",
       "      <th>listening_time_minutes</th>\n",
       "    </tr>\n",
       "  </thead>\n",
       "  <tbody>\n",
       "    <tr>\n",
       "      <th>0</th>\n",
       "      <td>1</td>\n",
       "      <td>Female</td>\n",
       "      <td>54</td>\n",
       "      <td>CA</td>\n",
       "      <td>Free</td>\n",
       "      <td>26</td>\n",
       "      <td>23</td>\n",
       "      <td>0.20</td>\n",
       "      <td>Desktop</td>\n",
       "      <td>31</td>\n",
       "      <td>0</td>\n",
       "      <td>1</td>\n",
       "      <td>0.433333</td>\n",
       "    </tr>\n",
       "    <tr>\n",
       "      <th>1</th>\n",
       "      <td>2</td>\n",
       "      <td>Other</td>\n",
       "      <td>33</td>\n",
       "      <td>DE</td>\n",
       "      <td>Family</td>\n",
       "      <td>141</td>\n",
       "      <td>62</td>\n",
       "      <td>0.34</td>\n",
       "      <td>Web</td>\n",
       "      <td>0</td>\n",
       "      <td>1</td>\n",
       "      <td>0</td>\n",
       "      <td>2.350000</td>\n",
       "    </tr>\n",
       "    <tr>\n",
       "      <th>2</th>\n",
       "      <td>3</td>\n",
       "      <td>Male</td>\n",
       "      <td>38</td>\n",
       "      <td>AU</td>\n",
       "      <td>Premium</td>\n",
       "      <td>199</td>\n",
       "      <td>38</td>\n",
       "      <td>0.04</td>\n",
       "      <td>Mobile</td>\n",
       "      <td>0</td>\n",
       "      <td>1</td>\n",
       "      <td>1</td>\n",
       "      <td>3.316667</td>\n",
       "    </tr>\n",
       "    <tr>\n",
       "      <th>3</th>\n",
       "      <td>4</td>\n",
       "      <td>Female</td>\n",
       "      <td>22</td>\n",
       "      <td>CA</td>\n",
       "      <td>Student</td>\n",
       "      <td>36</td>\n",
       "      <td>2</td>\n",
       "      <td>0.31</td>\n",
       "      <td>Mobile</td>\n",
       "      <td>0</td>\n",
       "      <td>1</td>\n",
       "      <td>0</td>\n",
       "      <td>0.600000</td>\n",
       "    </tr>\n",
       "    <tr>\n",
       "      <th>4</th>\n",
       "      <td>5</td>\n",
       "      <td>Other</td>\n",
       "      <td>29</td>\n",
       "      <td>US</td>\n",
       "      <td>Family</td>\n",
       "      <td>250</td>\n",
       "      <td>57</td>\n",
       "      <td>0.36</td>\n",
       "      <td>Mobile</td>\n",
       "      <td>0</td>\n",
       "      <td>1</td>\n",
       "      <td>1</td>\n",
       "      <td>4.166667</td>\n",
       "    </tr>\n",
       "  </tbody>\n",
       "</table>\n",
       "</div>"
      ],
      "text/plain": [
       "   user_id  gender  age country subscription_type  listening_time  \\\n",
       "0        1  Female   54      CA              Free              26   \n",
       "1        2   Other   33      DE            Family             141   \n",
       "2        3    Male   38      AU           Premium             199   \n",
       "3        4  Female   22      CA           Student              36   \n",
       "4        5   Other   29      US            Family             250   \n",
       "\n",
       "   songs_played_per_day  skip_rate device_type  ads_listened_per_week  \\\n",
       "0                    23       0.20     Desktop                     31   \n",
       "1                    62       0.34         Web                      0   \n",
       "2                    38       0.04      Mobile                      0   \n",
       "3                     2       0.31      Mobile                      0   \n",
       "4                    57       0.36      Mobile                      0   \n",
       "\n",
       "   offline_listening  is_churned  listening_time_minutes  \n",
       "0                  0           1                0.433333  \n",
       "1                  1           0                2.350000  \n",
       "2                  1           1                3.316667  \n",
       "3                  1           0                0.600000  \n",
       "4                  1           1                4.166667  "
      ]
     },
     "execution_count": 80,
     "metadata": {},
     "output_type": "execute_result"
    }
   ],
   "source": [
    "df.head()"
   ]
  },
  {
   "cell_type": "markdown",
   "id": "3fd421dd",
   "metadata": {},
   "source": [
    "Read last 5 Rows"
   ]
  },
  {
   "cell_type": "code",
   "execution_count": 81,
   "id": "3eafb64d",
   "metadata": {},
   "outputs": [
    {
     "data": {
      "text/html": [
       "<div>\n",
       "<style scoped>\n",
       "    .dataframe tbody tr th:only-of-type {\n",
       "        vertical-align: middle;\n",
       "    }\n",
       "\n",
       "    .dataframe tbody tr th {\n",
       "        vertical-align: top;\n",
       "    }\n",
       "\n",
       "    .dataframe thead th {\n",
       "        text-align: right;\n",
       "    }\n",
       "</style>\n",
       "<table border=\"1\" class=\"dataframe\">\n",
       "  <thead>\n",
       "    <tr style=\"text-align: right;\">\n",
       "      <th></th>\n",
       "      <th>user_id</th>\n",
       "      <th>gender</th>\n",
       "      <th>age</th>\n",
       "      <th>country</th>\n",
       "      <th>subscription_type</th>\n",
       "      <th>listening_time</th>\n",
       "      <th>songs_played_per_day</th>\n",
       "      <th>skip_rate</th>\n",
       "      <th>device_type</th>\n",
       "      <th>ads_listened_per_week</th>\n",
       "      <th>offline_listening</th>\n",
       "      <th>is_churned</th>\n",
       "      <th>listening_time_minutes</th>\n",
       "    </tr>\n",
       "  </thead>\n",
       "  <tbody>\n",
       "    <tr>\n",
       "      <th>7995</th>\n",
       "      <td>7996</td>\n",
       "      <td>Other</td>\n",
       "      <td>44</td>\n",
       "      <td>DE</td>\n",
       "      <td>Student</td>\n",
       "      <td>237</td>\n",
       "      <td>36</td>\n",
       "      <td>0.30</td>\n",
       "      <td>Mobile</td>\n",
       "      <td>0</td>\n",
       "      <td>1</td>\n",
       "      <td>1</td>\n",
       "      <td>3.950000</td>\n",
       "    </tr>\n",
       "    <tr>\n",
       "      <th>7996</th>\n",
       "      <td>7997</td>\n",
       "      <td>Male</td>\n",
       "      <td>34</td>\n",
       "      <td>AU</td>\n",
       "      <td>Premium</td>\n",
       "      <td>61</td>\n",
       "      <td>64</td>\n",
       "      <td>0.59</td>\n",
       "      <td>Mobile</td>\n",
       "      <td>0</td>\n",
       "      <td>1</td>\n",
       "      <td>0</td>\n",
       "      <td>1.016667</td>\n",
       "    </tr>\n",
       "    <tr>\n",
       "      <th>7997</th>\n",
       "      <td>7998</td>\n",
       "      <td>Female</td>\n",
       "      <td>17</td>\n",
       "      <td>US</td>\n",
       "      <td>Free</td>\n",
       "      <td>81</td>\n",
       "      <td>62</td>\n",
       "      <td>0.33</td>\n",
       "      <td>Desktop</td>\n",
       "      <td>5</td>\n",
       "      <td>0</td>\n",
       "      <td>0</td>\n",
       "      <td>1.350000</td>\n",
       "    </tr>\n",
       "    <tr>\n",
       "      <th>7998</th>\n",
       "      <td>7999</td>\n",
       "      <td>Female</td>\n",
       "      <td>34</td>\n",
       "      <td>IN</td>\n",
       "      <td>Student</td>\n",
       "      <td>245</td>\n",
       "      <td>94</td>\n",
       "      <td>0.27</td>\n",
       "      <td>Desktop</td>\n",
       "      <td>0</td>\n",
       "      <td>1</td>\n",
       "      <td>0</td>\n",
       "      <td>4.083333</td>\n",
       "    </tr>\n",
       "    <tr>\n",
       "      <th>7999</th>\n",
       "      <td>8000</td>\n",
       "      <td>Other</td>\n",
       "      <td>45</td>\n",
       "      <td>AU</td>\n",
       "      <td>Free</td>\n",
       "      <td>210</td>\n",
       "      <td>68</td>\n",
       "      <td>0.46</td>\n",
       "      <td>Desktop</td>\n",
       "      <td>6</td>\n",
       "      <td>0</td>\n",
       "      <td>0</td>\n",
       "      <td>3.500000</td>\n",
       "    </tr>\n",
       "  </tbody>\n",
       "</table>\n",
       "</div>"
      ],
      "text/plain": [
       "      user_id  gender  age country subscription_type  listening_time  \\\n",
       "7995     7996   Other   44      DE           Student             237   \n",
       "7996     7997    Male   34      AU           Premium              61   \n",
       "7997     7998  Female   17      US              Free              81   \n",
       "7998     7999  Female   34      IN           Student             245   \n",
       "7999     8000   Other   45      AU              Free             210   \n",
       "\n",
       "      songs_played_per_day  skip_rate device_type  ads_listened_per_week  \\\n",
       "7995                    36       0.30      Mobile                      0   \n",
       "7996                    64       0.59      Mobile                      0   \n",
       "7997                    62       0.33     Desktop                      5   \n",
       "7998                    94       0.27     Desktop                      0   \n",
       "7999                    68       0.46     Desktop                      6   \n",
       "\n",
       "      offline_listening  is_churned  listening_time_minutes  \n",
       "7995                  1           1                3.950000  \n",
       "7996                  1           0                1.016667  \n",
       "7997                  0           0                1.350000  \n",
       "7998                  1           0                4.083333  \n",
       "7999                  0           0                3.500000  "
      ]
     },
     "execution_count": 81,
     "metadata": {},
     "output_type": "execute_result"
    }
   ],
   "source": [
    "df.tail()"
   ]
  },
  {
   "cell_type": "markdown",
   "id": "9f2a8b77",
   "metadata": {},
   "source": [
    " Data Cleaning"
   ]
  },
  {
   "cell_type": "code",
   "execution_count": 59,
   "id": "0decab68",
   "metadata": {},
   "outputs": [
    {
     "data": {
      "text/plain": [
       "user_id                  0\n",
       "gender                   0\n",
       "age                      0\n",
       "country                  0\n",
       "subscription_type        0\n",
       "listening_time           0\n",
       "songs_played_per_day     0\n",
       "skip_rate                0\n",
       "device_type              0\n",
       "ads_listened_per_week    0\n",
       "offline_listening        0\n",
       "is_churned               0\n",
       "dtype: int64"
      ]
     },
     "execution_count": 59,
     "metadata": {},
     "output_type": "execute_result"
    }
   ],
   "source": [
    "#check the count of null values\n",
    "\n",
    "df.isna().sum()"
   ]
  },
  {
   "cell_type": "code",
   "execution_count": 60,
   "id": "5505ed31",
   "metadata": {},
   "outputs": [
    {
     "data": {
      "text/plain": [
       "0"
      ]
     },
     "execution_count": 60,
     "metadata": {},
     "output_type": "execute_result"
    }
   ],
   "source": [
    "#check duplicates\n",
    "\n",
    "df.duplicated().sum()"
   ]
  },
  {
   "cell_type": "code",
   "execution_count": 61,
   "id": "8dd69c1b",
   "metadata": {},
   "outputs": [
    {
     "name": "stdout",
     "output_type": "stream",
     "text": [
      "<class 'pandas.core.frame.DataFrame'>\n",
      "RangeIndex: 8000 entries, 0 to 7999\n",
      "Data columns (total 12 columns):\n",
      " #   Column                 Non-Null Count  Dtype  \n",
      "---  ------                 --------------  -----  \n",
      " 0   user_id                8000 non-null   int64  \n",
      " 1   gender                 8000 non-null   object \n",
      " 2   age                    8000 non-null   int64  \n",
      " 3   country                8000 non-null   object \n",
      " 4   subscription_type      8000 non-null   object \n",
      " 5   listening_time         8000 non-null   int64  \n",
      " 6   songs_played_per_day   8000 non-null   int64  \n",
      " 7   skip_rate              8000 non-null   float64\n",
      " 8   device_type            8000 non-null   object \n",
      " 9   ads_listened_per_week  8000 non-null   int64  \n",
      " 10  offline_listening      8000 non-null   int64  \n",
      " 11  is_churned             8000 non-null   int64  \n",
      "dtypes: float64(1), int64(7), object(4)\n",
      "memory usage: 750.1+ KB\n"
     ]
    }
   ],
   "source": [
    "#Basic inforamtion about the dataset like column name,datatypes...\n",
    "\n",
    "df.info()"
   ]
  },
  {
   "cell_type": "code",
   "execution_count": 62,
   "id": "3dca972e",
   "metadata": {},
   "outputs": [
    {
     "data": {
      "text/html": [
       "<div>\n",
       "<style scoped>\n",
       "    .dataframe tbody tr th:only-of-type {\n",
       "        vertical-align: middle;\n",
       "    }\n",
       "\n",
       "    .dataframe tbody tr th {\n",
       "        vertical-align: top;\n",
       "    }\n",
       "\n",
       "    .dataframe thead th {\n",
       "        text-align: right;\n",
       "    }\n",
       "</style>\n",
       "<table border=\"1\" class=\"dataframe\">\n",
       "  <thead>\n",
       "    <tr style=\"text-align: right;\">\n",
       "      <th></th>\n",
       "      <th>user_id</th>\n",
       "      <th>age</th>\n",
       "      <th>listening_time</th>\n",
       "      <th>songs_played_per_day</th>\n",
       "      <th>skip_rate</th>\n",
       "      <th>ads_listened_per_week</th>\n",
       "      <th>offline_listening</th>\n",
       "      <th>is_churned</th>\n",
       "    </tr>\n",
       "  </thead>\n",
       "  <tbody>\n",
       "    <tr>\n",
       "      <th>count</th>\n",
       "      <td>8000.00000</td>\n",
       "      <td>8000.000000</td>\n",
       "      <td>8000.000000</td>\n",
       "      <td>8000.000000</td>\n",
       "      <td>8000.000000</td>\n",
       "      <td>8000.000000</td>\n",
       "      <td>8000.000000</td>\n",
       "      <td>8000.000000</td>\n",
       "    </tr>\n",
       "    <tr>\n",
       "      <th>mean</th>\n",
       "      <td>4000.50000</td>\n",
       "      <td>37.662125</td>\n",
       "      <td>154.068250</td>\n",
       "      <td>50.127250</td>\n",
       "      <td>0.300127</td>\n",
       "      <td>6.943875</td>\n",
       "      <td>0.747750</td>\n",
       "      <td>0.258875</td>\n",
       "    </tr>\n",
       "    <tr>\n",
       "      <th>std</th>\n",
       "      <td>2309.54541</td>\n",
       "      <td>12.740359</td>\n",
       "      <td>84.015596</td>\n",
       "      <td>28.449762</td>\n",
       "      <td>0.173594</td>\n",
       "      <td>13.617953</td>\n",
       "      <td>0.434331</td>\n",
       "      <td>0.438044</td>\n",
       "    </tr>\n",
       "    <tr>\n",
       "      <th>min</th>\n",
       "      <td>1.00000</td>\n",
       "      <td>16.000000</td>\n",
       "      <td>10.000000</td>\n",
       "      <td>1.000000</td>\n",
       "      <td>0.000000</td>\n",
       "      <td>0.000000</td>\n",
       "      <td>0.000000</td>\n",
       "      <td>0.000000</td>\n",
       "    </tr>\n",
       "    <tr>\n",
       "      <th>25%</th>\n",
       "      <td>2000.75000</td>\n",
       "      <td>26.000000</td>\n",
       "      <td>81.000000</td>\n",
       "      <td>25.000000</td>\n",
       "      <td>0.150000</td>\n",
       "      <td>0.000000</td>\n",
       "      <td>0.000000</td>\n",
       "      <td>0.000000</td>\n",
       "    </tr>\n",
       "    <tr>\n",
       "      <th>50%</th>\n",
       "      <td>4000.50000</td>\n",
       "      <td>38.000000</td>\n",
       "      <td>154.000000</td>\n",
       "      <td>50.000000</td>\n",
       "      <td>0.300000</td>\n",
       "      <td>0.000000</td>\n",
       "      <td>1.000000</td>\n",
       "      <td>0.000000</td>\n",
       "    </tr>\n",
       "    <tr>\n",
       "      <th>75%</th>\n",
       "      <td>6000.25000</td>\n",
       "      <td>49.000000</td>\n",
       "      <td>227.000000</td>\n",
       "      <td>75.000000</td>\n",
       "      <td>0.450000</td>\n",
       "      <td>5.000000</td>\n",
       "      <td>1.000000</td>\n",
       "      <td>1.000000</td>\n",
       "    </tr>\n",
       "    <tr>\n",
       "      <th>max</th>\n",
       "      <td>8000.00000</td>\n",
       "      <td>59.000000</td>\n",
       "      <td>299.000000</td>\n",
       "      <td>99.000000</td>\n",
       "      <td>0.600000</td>\n",
       "      <td>49.000000</td>\n",
       "      <td>1.000000</td>\n",
       "      <td>1.000000</td>\n",
       "    </tr>\n",
       "  </tbody>\n",
       "</table>\n",
       "</div>"
      ],
      "text/plain": [
       "          user_id          age  listening_time  songs_played_per_day  \\\n",
       "count  8000.00000  8000.000000     8000.000000           8000.000000   \n",
       "mean   4000.50000    37.662125      154.068250             50.127250   \n",
       "std    2309.54541    12.740359       84.015596             28.449762   \n",
       "min       1.00000    16.000000       10.000000              1.000000   \n",
       "25%    2000.75000    26.000000       81.000000             25.000000   \n",
       "50%    4000.50000    38.000000      154.000000             50.000000   \n",
       "75%    6000.25000    49.000000      227.000000             75.000000   \n",
       "max    8000.00000    59.000000      299.000000             99.000000   \n",
       "\n",
       "         skip_rate  ads_listened_per_week  offline_listening   is_churned  \n",
       "count  8000.000000            8000.000000        8000.000000  8000.000000  \n",
       "mean      0.300127               6.943875           0.747750     0.258875  \n",
       "std       0.173594              13.617953           0.434331     0.438044  \n",
       "min       0.000000               0.000000           0.000000     0.000000  \n",
       "25%       0.150000               0.000000           0.000000     0.000000  \n",
       "50%       0.300000               0.000000           1.000000     0.000000  \n",
       "75%       0.450000               5.000000           1.000000     1.000000  \n",
       "max       0.600000              49.000000           1.000000     1.000000  "
      ]
     },
     "execution_count": 62,
     "metadata": {},
     "output_type": "execute_result"
    }
   ],
   "source": [
    "#describe the dataset\n",
    "\n",
    "(df.describe())"
   ]
  },
  {
   "cell_type": "markdown",
   "id": "31cb5240",
   "metadata": {},
   "source": [
    "Data Understanding"
   ]
  },
  {
   "cell_type": "code",
   "execution_count": 63,
   "id": "1f4f927a",
   "metadata": {},
   "outputs": [
    {
     "name": "stdout",
     "output_type": "stream",
     "text": [
      "Average song listening time: 154.06825\n"
     ]
    }
   ],
   "source": [
    "#Q1 Average song listening time\n",
    "\n",
    "avg_listening=df['listening_time'].mean()\n",
    "print(\"Average song listening time:\",avg_listening)"
   ]
  },
  {
   "cell_type": "code",
   "execution_count": 64,
   "id": "bbaa6357",
   "metadata": {},
   "outputs": [
    {
     "name": "stdout",
     "output_type": "stream",
     "text": [
      "Total no. of songs played per day 401018\n"
     ]
    }
   ],
   "source": [
    "#Q2 Total no. of songs played per day\n",
    "\n",
    "total_play=df['songs_played_per_day'].sum()\n",
    "print('Total no. of songs played per day',total_play)"
   ]
  },
  {
   "cell_type": "code",
   "execution_count": 65,
   "id": "5b8c6581",
   "metadata": {},
   "outputs": [
    {
     "name": "stdout",
     "output_type": "stream",
     "text": [
      "Total no. of male listeners 2691\n"
     ]
    }
   ],
   "source": [
    "#Q3 Total no. of male listeners\n",
    "\n",
    "male_listners=df['gender'].value_counts()['Male']\n",
    "print('Total no. of male listeners',male_listners)"
   ]
  },
  {
   "cell_type": "code",
   "execution_count": 66,
   "id": "9fdac223",
   "metadata": {},
   "outputs": [
    {
     "name": "stdout",
     "output_type": "stream",
     "text": [
      "Total no.female listners 2659\n"
     ]
    }
   ],
   "source": [
    "#Q4 Total no. of female listners\n",
    "\n",
    "female_listners=df['gender'].value_counts()['Female']\n",
    "print('Total no.female listners',female_listners)"
   ]
  },
  {
   "cell_type": "code",
   "execution_count": 67,
   "id": "5a5a2d9c",
   "metadata": {},
   "outputs": [
    {
     "name": "stdout",
     "output_type": "stream",
     "text": [
      "Total no. of others who listners 2650\n"
     ]
    }
   ],
   "source": [
    "#Q5 Total no. of others who listners\n",
    "\n",
    "other_listner=df['gender'].value_counts()['Other']\n",
    "print('Total no. of others who listners',other_listner)"
   ]
  },
  {
   "cell_type": "code",
   "execution_count": 68,
   "id": "b7507668",
   "metadata": {},
   "outputs": [
    {
     "data": {
      "image/png": "[encoded data removed]",
      "text/plain": [
       "<Figure size 800x400 with 1 Axes>"
      ]
     },
     "metadata": {},
     "output_type": "display_data"
    },
    {
     "name": "stdout",
     "output_type": "stream",
     "text": [
      "Total no.female listners- 2659 \n",
      "\n",
      "Total no. of male listeners- 2691 \n",
      "\n",
      "Total no. of others who listners- 2650\n"
     ]
    }
   ],
   "source": [
    "#Q6 Correlation btwin the song listning of various gender\n",
    "\n",
    "corre_gender=df.groupby('gender')['songs_played_per_day'].mean()\n",
    "plt.figure(figsize=(8,4))\n",
    "corre_gender.plot(kind='bar',color=['pink','SkyBlue','Black'])\n",
    "plt.title('Range of Songs Played by Gender')\n",
    "plt.xlabel('Gender...')\n",
    "plt.ylabel('Average Songs Played by Gender')\n",
    "#plt.xticks(rotation=0)\n",
    "plt.show()\n",
    "\n",
    "#Count of each gender\n",
    "female_listners=df['gender'].value_counts()['Female']\n",
    "print('Total no.female listners-',female_listners,'\\n')\n",
    "male_listners=df['gender'].value_counts()['Male']\n",
    "print('Total no. of male listeners-',male_listners,'\\n')\n",
    "other_listner=df['gender'].value_counts()['Other']\n",
    "print('Total no. of others who listners-',other_listner)"
   ]
  },
  {
   "cell_type": "code",
   "execution_count": 69,
   "id": "6a7a5daa",
   "metadata": {},
   "outputs": [
    {
     "name": "stdout",
     "output_type": "stream",
     "text": [
      "['Free' 'Family' 'Premium' 'Student']\n"
     ]
    }
   ],
   "source": [
    "#Q7 Types of subscriptions\n",
    "\n",
    "print(df['subscription_type'].unique())"
   ]
  },
  {
   "cell_type": "code",
   "execution_count": null,
   "id": "6a382948",
   "metadata": {},
   "outputs": [],
   "source": []
  },
  {
   "cell_type": "code",
   "execution_count": 70,
   "id": "949386fe",
   "metadata": {},
   "outputs": [
    {
     "data": {
      "image/png": "[encoded data removed]",
      "text/plain": [
       "<Figure size 800x400 with 1 Axes>"
      ]
     },
     "metadata": {},
     "output_type": "display_data"
    },
    {
     "name": "stdout",
     "output_type": "stream",
     "text": [
      "Total no. of Premium subscribed listeners- 2115 \n",
      "\n",
      "Total no. of Subcription free listeners- 2018 \n",
      "\n",
      "Total no. of student listeners- 1959 \n",
      "\n",
      "Total no. of Family subcribed listeners- 1908 \n",
      "\n"
     ]
    }
   ],
   "source": [
    "#Q8 Range of users in different subscription types\n",
    "\n",
    "\n",
    "sub_core= df['subscription_type'].value_counts()\n",
    "\n",
    "plt.figure(figsize=(8,4))\n",
    "sub_core.plot(kind='bar', color=[\"skyblue\", \"lightgreen\", \"gold\", \"orchid\"])\n",
    "\n",
    "plt.title('Total Users by Subscription Type')\n",
    "plt.xlabel('Subscription Types')\n",
    "plt.ylabel('Number of Users')\n",
    "plt.xticks(rotation=0)\n",
    "plt.grid(color='black')\n",
    "plt.show()\n",
    "\n",
    "Premium_listners=df['subscription_type'].value_counts()['Premium']\n",
    "print('Total no. of Premium subscribed listeners-',Premium_listners,'\\n')\n",
    "Free_listners=df['subscription_type'].value_counts()['Free']\n",
    "print('Total no. of Subcription free listeners-',Free_listners,'\\n')\n",
    "Student_listners=df['subscription_type'].value_counts()['Student']\n",
    "print('Total no. of student listeners-',Student_listners,'\\n')\n",
    "Family_listners=df['subscription_type'].value_counts()['Family']\n",
    "print('Total no. of Family subcribed listeners-',Family_listners,'\\n')"
   ]
  },
  {
   "cell_type": "code",
   "execution_count": 71,
   "id": "21e34cd7",
   "metadata": {},
   "outputs": [
    {
     "name": "stdout",
     "output_type": "stream",
     "text": [
      "['Desktop' 'Web' 'Mobile']\n"
     ]
    }
   ],
   "source": [
    "#Q9 Type of devices used to use spotify\n",
    "\n",
    "\n",
    "print(df['device_type'].unique())"
   ]
  },
  {
   "cell_type": "code",
   "execution_count": 72,
   "id": "7e6e7246",
   "metadata": {},
   "outputs": [
    {
     "data": {
      "image/png": "[encoded data removed]",
      "text/plain": [
       "<Figure size 800x400 with 1 Axes>"
      ]
     },
     "metadata": {},
     "output_type": "display_data"
    },
    {
     "name": "stdout",
     "output_type": "stream",
     "text": [
      "Total no. of desktop users- 2778 \n",
      "\n",
      "Total no. of web users- 2623 \n",
      "\n",
      "Total no. of mobile users- 2599 \n",
      "\n"
     ]
    }
   ],
   "source": [
    "#Q10 Range of users in different types of divices\n",
    "\n",
    "dev_core=df['device_type'].value_counts()\n",
    "\n",
    "plt.figure(figsize=(8,4))\n",
    "dev_core.plot(kind='bar',color=['green','grey','yellow'])\n",
    "plt.title('Types of devices for spotify usage')\n",
    "plt.xlabel('Devices')\n",
    "plt.ylabel('Range')\n",
    "plt.grid(color='black')\n",
    "plt.show()\n",
    "\n",
    "desktop_users=df['device_type'].value_counts()['Desktop']\n",
    "print('Total no. of desktop users-',desktop_users,'\\n')\n",
    "\n",
    "web_users=df['device_type'].value_counts()['Web']\n",
    "print('Total no. of web users-',web_users,'\\n')\n",
    "\n",
    "Mobile_users=df['device_type'].value_counts()['Mobile']\n",
    "print('Total no. of mobile users-',Mobile_users,'\\n')"
   ]
  },
  {
   "cell_type": "code",
   "execution_count": 73,
   "id": "8033a0f7",
   "metadata": {},
   "outputs": [
    {
     "name": "stdout",
     "output_type": "stream",
     "text": [
      "['CA' 'DE' 'AU' 'US' 'UK' 'IN' 'FR' 'PK']\n"
     ]
    }
   ],
   "source": [
    "#Q11 Countries which are using spotify\n",
    "\n",
    "print(df['country'].unique())"
   ]
  },
  {
   "cell_type": "code",
   "execution_count": 74,
   "id": "78548913",
   "metadata": {},
   "outputs": [
    {
     "data": {
      "image/png": "[encoded data removed]",
      "text/plain": [
       "<Figure size 800x400 with 1 Axes>"
      ]
     },
     "metadata": {},
     "output_type": "display_data"
    },
    {
     "name": "stdout",
     "output_type": "stream",
     "text": [
      "Total no. of desktop users who listnes ads- 18399 \n",
      "\n",
      "Total no. of mobile users who listnes ads- 18391 \n",
      "\n",
      "Total no. of web users who listnes ads- 18761\n"
     ]
    }
   ],
   "source": [
    "#Q12 correlation btwin ads listened per week and devic type\n",
    "\n",
    "\n",
    "core_ad=df.groupby('device_type')['ads_listened_per_week'].sum()\n",
    "plt.figure(figsize=(8,4))\n",
    "#plt.boxplot(data, labels=labels, patch_artist=True)\n",
    "\n",
    "core_ad.plot(kind='bar',color=['green','grey','yellow'])\n",
    "plt.title('correlation btwin ads listened per week and devic type')\n",
    "plt.xlabel('Devices')\n",
    "plt.ylabel('range btwin ads listened per week and devic type')\n",
    "plt.grid(color='black')\n",
    "plt.show()\n",
    "\n",
    "desktop_ads=df[df['device_type']=='Desktop']['ads_listened_per_week'].sum()\n",
    "print('Total no. of desktop users who listnes ads-',desktop_ads,'\\n')\n",
    "mobile_ads=df[df['device_type']=='Mobile']['ads_listened_per_week'].sum()\n",
    "print('Total no. of mobile users who listnes ads-',mobile_ads,'\\n')  \n",
    "web_ads=df[df['device_type']=='Web']['ads_listened_per_week'].sum()\n",
    "print('Total no. of web users who listnes ads-',web_ads,)"
   ]
  },
  {
   "cell_type": "code",
   "execution_count": 75,
   "id": "ff624077",
   "metadata": {},
   "outputs": [
    {
     "name": "stdout",
     "output_type": "stream",
     "text": [
      "device_type\n",
      "Desktop    156.267099\n",
      "Mobile     150.236245\n",
      "Web        155.536409\n",
      "Name: listening_time, dtype: float64\n"
     ]
    },
    {
     "data": {
      "image/png": "[encoded data removed]",
      "text/plain": [
       "<Figure size 640x480 with 1 Axes>"
      ]
     },
     "metadata": {},
     "output_type": "display_data"
    }
   ],
   "source": [
    "#Q13 listnening time distribution across devices\n",
    "\n",
    "\n",
    "listen_time=df.groupby('device_type')['listening_time'].mean()\n",
    "print(listen_time)\n",
    "\n",
    "#plt.figure(figsize=(8,4))\n",
    "sns.boxplot(x='device_type',y='listening_time',data=df)\n",
    "\n",
    "plt.title('listnening time distribution across devices')\n",
    "plt.xlabel('Devices')\n",
    "plt.ylabel('Listening Time')\n",
    "plt.show()"
   ]
  },
  {
   "cell_type": "code",
   "execution_count": 76,
   "id": "180315e0",
   "metadata": {},
   "outputs": [
    {
     "name": "stdout",
     "output_type": "stream",
     "text": [
      "2071 \n",
      "\n",
      "country\n",
      "AU    266\n",
      "CA    237\n",
      "DE    277\n",
      "FR    269\n",
      "IN    246\n",
      "PK    275\n",
      "UK    239\n",
      "US    262\n",
      "Name: is_churned, dtype: int64\n"
     ]
    },
    {
     "data": {
      "image/png": "[encoded data removed]",
      "text/plain": [
       "<Figure size 640x480 with 1 Axes>"
      ]
     },
     "metadata": {},
     "output_type": "display_data"
    }
   ],
   "source": [
    "#Q14  Total no. of platform lefted listners and Rate of listners who left the platform across various countries\n",
    "\n",
    "\n",
    "lefted_users=df['is_churned'].sum()\n",
    "print(lefted_users,'\\n')\n",
    "left_listners=df.groupby('country')['is_churned'].sum()\n",
    "print(left_listners)\n",
    "\n",
    "sns.barplot(x='country',y='is_churned',data=df)\n",
    "#lefted_users.plot(kind='bar',color=['green','grey','yellow'])\n",
    "\n",
    "\n",
    "plt.title('Correlation of platform lefted users across countries')\n",
    "plt.ylabel('Rate of listners who left the platform')\n",
    "plt.show()"
   ]
  },
  {
   "cell_type": "code",
   "execution_count": 77,
   "id": "3c5f3c5c",
   "metadata": {},
   "outputs": [
    {
     "name": "stdout",
     "output_type": "stream",
     "text": [
      "device_type\n",
      "Desktop    0.299093\n",
      "Mobile     0.297861\n",
      "Web        0.303469\n",
      "Name: skip_rate, dtype: float64\n"
     ]
    },
    {
     "data": {
      "image/png": "[encoded data removed]",
      "text/plain": [
       "<Figure size 640x480 with 1 Axes>"
      ]
     },
     "metadata": {},
     "output_type": "display_data"
    }
   ],
   "source": [
    "#Q15 average skip rate across varios devices\n",
    "\n",
    "\n",
    "avg_skip=df.groupby('device_type')['skip_rate'].mean()\n",
    "print(avg_skip)\n",
    "\n",
    "sns.boxplot(x='device_type',y='skip_rate',data=df)\n",
    "plt.xlabel('Devices')\n",
    "plt.ylabel('Skip Rate')\n",
    "plt.show()\n"
   ]
  },
  {
   "cell_type": "code",
   "execution_count": 78,
   "id": "9361e59b",
   "metadata": {},
   "outputs": [
    {
     "name": "stdout",
     "output_type": "stream",
     "text": [
      "country\n",
      "AU    157096\n",
      "CA    145397\n",
      "DE    159588\n",
      "FR    153611\n",
      "IN    156397\n",
      "PK    152627\n",
      "UK    147939\n",
      "US    159891\n",
      "Name: listening_time, dtype: int64\n"
     ]
    }
   ],
   "source": [
    "#16 correlation btwin countries and play time\n",
    "\n",
    "\n",
    "country_play=df.groupby('country')['listening_time'].sum()\n",
    "df['listening_time_minutes']=df['listening_time'] / 60\n",
    "print(country_play)\n"
   ]
  },
  {
   "cell_type": "markdown",
   "id": "e998a5f3",
   "metadata": {},
   "source": [
    "## Conclusion\n",
    " This exploratory data analysis successfully quantified key user engagement metrics and revealed significant behavioral variations within the Spotify user base.The project confirms that user engagement is a complex function of both geography and technology. While the analysis provides clear descriptive insights into where and how users engage, the ultimate goal of this research is to move beyond description and toward prediction."
   ]
  }
 ],
 "metadata": {
  "kernelspec": {
   "display_name": "base",
   "language": "python",
   "name": "python3"
  },
  "language_info": {
   "codemirror_mode": {
    "name": "ipython",
    "version": 3
   },
   "file_extension": ".py",
   "mimetype": "text/x-python",
   "name": "python",
   "nbconvert_exporter": "python",
   "pygments_lexer": "ipython3",
   "version": "3.10.9"
  }
 },
 "nbformat": 4,
 "nbformat_minor": 5
}
